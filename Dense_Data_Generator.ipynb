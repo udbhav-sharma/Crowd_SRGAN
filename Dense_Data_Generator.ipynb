{
 "cells": [
  {
   "cell_type": "code",
   "execution_count": null,
   "metadata": {},
   "outputs": [],
   "source": [
    "import numpy as np\n",
    "import pandas as pd\n",
    "import os\n",
    "import cv2\n",
    "from icc.data_loaderB import ImageDataLoader"
   ]
  },
  {
   "cell_type": "markdown",
   "metadata": {},
   "source": [
    "### Collecting different window density sizes"
   ]
  },
  {
   "cell_type": "code",
   "execution_count": null,
   "metadata": {},
   "outputs": [],
   "source": [
    "threshold = 0.0015"
   ]
  },
  {
   "cell_type": "code",
   "execution_count": null,
   "metadata": {},
   "outputs": [],
   "source": [
    "train_path = 'data/train/images'\n",
    "train_gt_path = 'data/train/ground_truth_csv'\n",
    "\n",
    "val_path = 'data/val/images'\n",
    "val_gt_path = 'data/val/ground_truth_csv'\n",
    "\n",
    "dense_train_img_path = 'data/dense/train/images'\n",
    "dense_train_gt_path = 'data/dense/train/ground_truth_csv'\n",
    "\n",
    "dense_val_img_path = 'data/dense/val/images'\n",
    "dense_val_gt_path = 'data/dense/val/ground_truth_csv'"
   ]
  },
  {
   "cell_type": "code",
   "execution_count": null,
   "metadata": {},
   "outputs": [],
   "source": [
    "if not os.path.exists(dense_train_img_path): os.makedirs(dense_train_img_path)\n",
    "if not os.path.exists(dense_train_gt_path): os.makedirs(dense_train_gt_path)\n",
    "if not os.path.exists(dense_val_img_path): os.makedirs(dense_val_img_path)\n",
    "if not os.path.exists(dense_val_gt_path): os.makedirs(dense_val_gt_path)"
   ]
  },
  {
   "cell_type": "code",
   "execution_count": null,
   "metadata": {},
   "outputs": [],
   "source": [
    "def extract_dense_images(img_data_path, gt_data_path, img_save_path, gt_save_path, stride = 3):\n",
    "    \n",
    "    img_files = [filename for filename in os.listdir(img_data_path) \\\n",
    "                           if os.path.isfile(os.path.join(img_data_path, filename))]\n",
    "    \n",
    "    TD_List = []\n",
    "    idx = 0\n",
    "    for i, fname in enumerate(img_files):\n",
    "\n",
    "        img = cv2.imread(os.path.join(img_data_path, fname))\n",
    "        gt_density = pd.read_csv(os.path.join(gt_data_path, os.path.splitext(fname)[0] + '.csv'), sep=',', header=None).as_matrix()\n",
    "        \n",
    "        h = img.shape[0]\n",
    "        w = img.shape[1]\n",
    "        \n",
    "        th = int(h/3.0 - ((h/3.0) % 4))\n",
    "        tw = int(w/3.0 - ((w/3.0) % 4))\n",
    "\n",
    "        th_small = th//4\n",
    "        tw_small = tw//4\n",
    "\n",
    "        density = gt_density.reshape((h, w))\n",
    "\n",
    "        area = th*tw\n",
    "        x = 0\n",
    "        \n",
    "        while x < (h-th):\n",
    "            y = 0\n",
    "            while y < (w-tw):\n",
    "                den = round(np.sum(density[x:x+th, y:y+tw]).item(), 2) / area\n",
    "                if den > 0:\n",
    "                    TD_List.append(den)\n",
    "                    \n",
    "                if den > threshold:\n",
    "                    idx = idx+1\n",
    "                    \n",
    "                    cv2.imwrite(os.path.join(img_save_path, str(idx) + '.jpg'), img[x:x+th, y:y+tw])\n",
    "                    np.save(os.path.join(gt_save_path, str(idx)), density[x:x+th, y:y+tw])\n",
    "                    \n",
    "                y += int(tw/stride)\n",
    "            x += int(th/stride)\n",
    "        \n",
    "        if ((i+1) % 100 == 0) or (i+1 == len(img_files)):\n",
    "            print ('Processed ', i+1, '/', len(img_files), 'files')\n",
    "            \n",
    "    return TD_List"
   ]
  },
  {
   "cell_type": "code",
   "execution_count": null,
   "metadata": {},
   "outputs": [],
   "source": [
    "Train_TD_List = extract_dense_images(train_path, train_gt_path, dense_train_img_path, dense_train_gt_path)"
   ]
  },
  {
   "cell_type": "code",
   "execution_count": null,
   "metadata": {},
   "outputs": [],
   "source": [
    "Val_TD_List = extract_dense_images(val_path, val_gt_path, dense_val_img_path, dense_val_gt_path)"
   ]
  },
  {
   "cell_type": "markdown",
   "metadata": {},
   "source": [
    "### Visualizing data for thresholding"
   ]
  },
  {
   "cell_type": "code",
   "execution_count": null,
   "metadata": {},
   "outputs": [],
   "source": [
    "import matplotlib.pyplot as plt"
   ]
  },
  {
   "cell_type": "code",
   "execution_count": null,
   "metadata": {},
   "outputs": [],
   "source": [
    "def hist(data, title, bins = 50):\n",
    "    plt.hist(data, bins)\n",
    "    plt.yscale('log')\n",
    "    plt.xlabel('Total Density')\n",
    "    plt.ylabel('Frequency')\n",
    "    plt.title(title)"
   ]
  },
  {
   "cell_type": "code",
   "execution_count": null,
   "metadata": {},
   "outputs": [],
   "source": [
    "hist(Train_TD_List, 'Training Data Density histogram')"
   ]
  },
  {
   "cell_type": "code",
   "execution_count": null,
   "metadata": {},
   "outputs": [],
   "source": [
    "densities = np.array(Train_TD_List)\n",
    "print(\"Selecting {}/{} based on threshold\".format(len(densities[densities > threshold]), len(densities)))"
   ]
  },
  {
   "cell_type": "code",
   "execution_count": null,
   "metadata": {},
   "outputs": [],
   "source": [
    "hist(Val_TD_List, 'Val Data Density histogram')"
   ]
  },
  {
   "cell_type": "code",
   "execution_count": null,
   "metadata": {},
   "outputs": [],
   "source": [
    "densities = np.array(Val_TD_List)\n",
    "print(\"Selecting {}/{} based on threshold\".format(len(densities[densities > threshold]), len(densities)))"
   ]
  },
  {
   "cell_type": "code",
   "execution_count": null,
   "metadata": {},
   "outputs": [],
   "source": []
  }
 ],
 "metadata": {
  "kernelspec": {
   "display_name": "Python 3",
   "language": "python",
   "name": "python3"
  },
  "language_info": {
   "codemirror_mode": {
    "name": "ipython",
    "version": 3
   },
   "file_extension": ".py",
   "mimetype": "text/x-python",
   "name": "python",
   "nbconvert_exporter": "python",
   "pygments_lexer": "ipython3",
   "version": "3.6.8"
  }
 },
 "nbformat": 4,
 "nbformat_minor": 2
}
